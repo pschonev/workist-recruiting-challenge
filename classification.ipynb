{
 "cells": [
  {
   "cell_type": "code",
   "execution_count": 1,
   "source": [
    "import pandas as pd\r\n",
    "import warnings\r\n",
    "warnings.filterwarnings('ignore') #don't want warnings in my notebook output on github\r\n",
    "\r\n",
    "csv_file = 'data\\document_type_data.csv'\r\n",
    "df = pd.read_csv(csv_file, index_col=[0])\r\n",
    "df.text = df.text.map(lambda x: \" \".join(eval(x)))\r\n",
    "df"
   ],
   "outputs": [
    {
     "output_type": "execute_result",
     "data": {
      "text/html": [
       "<div>\n",
       "<style scoped>\n",
       "    .dataframe tbody tr th:only-of-type {\n",
       "        vertical-align: middle;\n",
       "    }\n",
       "\n",
       "    .dataframe tbody tr th {\n",
       "        vertical-align: top;\n",
       "    }\n",
       "\n",
       "    .dataframe thead th {\n",
       "        text-align: right;\n",
       "    }\n",
       "</style>\n",
       "<table border=\"1\" class=\"dataframe\">\n",
       "  <thead>\n",
       "    <tr style=\"text-align: right;\">\n",
       "      <th></th>\n",
       "      <th>ocr</th>\n",
       "      <th>text</th>\n",
       "      <th>label</th>\n",
       "      <th>file_name</th>\n",
       "    </tr>\n",
       "  </thead>\n",
       "  <tbody>\n",
       "    <tr>\n",
       "      <th>0</th>\n",
       "      <td>{'pageImages': [{'__typename': 'Image', 'width...</td>\n",
       "      <td>Chaikin,  Karen  n  O'  o  From:  Sent:  To:  ...</td>\n",
       "      <td>email</td>\n",
       "      <td>2085136614c.pdf</td>\n",
       "    </tr>\n",
       "    <tr>\n",
       "      <th>1</th>\n",
       "      <td>{'pageImages': [{'__typename': 'Image', 'width...</td>\n",
       "      <td>&gt;  Jenny,  After  speaking  with  Elisa  about...</td>\n",
       "      <td>email</td>\n",
       "      <td>2085136814a.pdf</td>\n",
       "    </tr>\n",
       "    <tr>\n",
       "      <th>2</th>\n",
       "      <td>{'pageImages': [{'__typename': 'Image', 'width...</td>\n",
       "      <td>Please  call  with  any  questions.  Thanks.  ...</td>\n",
       "      <td>email</td>\n",
       "      <td>2085140145a.pdf</td>\n",
       "    </tr>\n",
       "    <tr>\n",
       "      <th>3</th>\n",
       "      <td>{'pageImages': [{'__typename': 'Image', 'width...</td>\n",
       "      <td>2085158326  Williams,  Carrie  T.  LBCo.  will...</td>\n",
       "      <td>email</td>\n",
       "      <td>2085158326.pdf</td>\n",
       "    </tr>\n",
       "    <tr>\n",
       "      <th>4</th>\n",
       "      <td>{'pageImages': [{'__typename': 'Image', 'width...</td>\n",
       "      <td>GJ  □3  A  nice  ending  to  the  story  below...</td>\n",
       "      <td>email</td>\n",
       "      <td>2085161311b.pdf</td>\n",
       "    </tr>\n",
       "    <tr>\n",
       "      <th>...</th>\n",
       "      <td>...</td>\n",
       "      <td>...</td>\n",
       "      <td>...</td>\n",
       "      <td>...</td>\n",
       "    </tr>\n",
       "    <tr>\n",
       "      <th>95</th>\n",
       "      <td>{'pageImages': [{'__typename': 'Image', 'width...</td>\n",
       "      <td>CURRICULUM  VITAE  NILANJAN  ROY  NAME  1st  O...</td>\n",
       "      <td>resumee</td>\n",
       "      <td>50701639-1640.pdf</td>\n",
       "    </tr>\n",
       "    <tr>\n",
       "      <th>96</th>\n",
       "      <td>{'pageImages': [{'__typename': 'Image', 'width...</td>\n",
       "      <td>BIOGRAPHICAL  SKETCH  Mark  S.  Ptashne  Profe...</td>\n",
       "      <td>resumee</td>\n",
       "      <td>50712092-2093.pdf</td>\n",
       "    </tr>\n",
       "    <tr>\n",
       "      <th>97</th>\n",
       "      <td>{'pageImages': [{'__typename': 'Image', 'width...</td>\n",
       "      <td>May.  1997  CURRICULUM  VITAE  Education  and ...</td>\n",
       "      <td>resumee</td>\n",
       "      <td>50735851-5852.pdf</td>\n",
       "    </tr>\n",
       "    <tr>\n",
       "      <th>98</th>\n",
       "      <td>{'pageImages': [{'__typename': 'Image', 'width...</td>\n",
       "      <td>I  CURRICULUM  VITAE  *  NAbE:  Emil  R.  Unan...</td>\n",
       "      <td>resumee</td>\n",
       "      <td>80412888_80412908.pdf</td>\n",
       "    </tr>\n",
       "    <tr>\n",
       "      <th>99</th>\n",
       "      <td>{'pageImages': [{'__typename': 'Image', 'width...</td>\n",
       "      <td>VITA  e-mail  Professor,  School  of  Social  ...</td>\n",
       "      <td>resumee</td>\n",
       "      <td>98032348_2356.pdf</td>\n",
       "    </tr>\n",
       "  </tbody>\n",
       "</table>\n",
       "<p>100 rows × 4 columns</p>\n",
       "</div>"
      ],
      "text/plain": [
       "                                                  ocr  \\\n",
       "0   {'pageImages': [{'__typename': 'Image', 'width...   \n",
       "1   {'pageImages': [{'__typename': 'Image', 'width...   \n",
       "2   {'pageImages': [{'__typename': 'Image', 'width...   \n",
       "3   {'pageImages': [{'__typename': 'Image', 'width...   \n",
       "4   {'pageImages': [{'__typename': 'Image', 'width...   \n",
       "..                                                ...   \n",
       "95  {'pageImages': [{'__typename': 'Image', 'width...   \n",
       "96  {'pageImages': [{'__typename': 'Image', 'width...   \n",
       "97  {'pageImages': [{'__typename': 'Image', 'width...   \n",
       "98  {'pageImages': [{'__typename': 'Image', 'width...   \n",
       "99  {'pageImages': [{'__typename': 'Image', 'width...   \n",
       "\n",
       "                                                 text    label  \\\n",
       "0   Chaikin,  Karen  n  O'  o  From:  Sent:  To:  ...    email   \n",
       "1   >  Jenny,  After  speaking  with  Elisa  about...    email   \n",
       "2   Please  call  with  any  questions.  Thanks.  ...    email   \n",
       "3   2085158326  Williams,  Carrie  T.  LBCo.  will...    email   \n",
       "4   GJ  □3  A  nice  ending  to  the  story  below...    email   \n",
       "..                                                ...      ...   \n",
       "95  CURRICULUM  VITAE  NILANJAN  ROY  NAME  1st  O...  resumee   \n",
       "96  BIOGRAPHICAL  SKETCH  Mark  S.  Ptashne  Profe...  resumee   \n",
       "97  May.  1997  CURRICULUM  VITAE  Education  and ...  resumee   \n",
       "98  I  CURRICULUM  VITAE  *  NAbE:  Emil  R.  Unan...  resumee   \n",
       "99  VITA  e-mail  Professor,  School  of  Social  ...  resumee   \n",
       "\n",
       "                file_name  \n",
       "0         2085136614c.pdf  \n",
       "1         2085136814a.pdf  \n",
       "2         2085140145a.pdf  \n",
       "3          2085158326.pdf  \n",
       "4         2085161311b.pdf  \n",
       "..                    ...  \n",
       "95      50701639-1640.pdf  \n",
       "96      50712092-2093.pdf  \n",
       "97      50735851-5852.pdf  \n",
       "98  80412888_80412908.pdf  \n",
       "99      98032348_2356.pdf  \n",
       "\n",
       "[100 rows x 4 columns]"
      ]
     },
     "metadata": {},
     "execution_count": 1
    }
   ],
   "metadata": {}
  },
  {
   "cell_type": "markdown",
   "source": [
    "## Convert string level to int."
   ],
   "metadata": {}
  },
  {
   "cell_type": "code",
   "execution_count": 2,
   "source": [
    "labels = df.label.unique()\r\n",
    "labels_dict = dict(zip(labels, range(len(labels))))\r\n",
    "df[\"class_name\"] = df.label\r\n",
    "df[\"label\"] = df.class_name.map(lambda x: labels_dict[x])\r\n",
    "df[[\"class_name\", \"label\"]].value_counts()"
   ],
   "outputs": [
    {
     "output_type": "execute_result",
     "data": {
      "text/plain": [
       "class_name  label\n",
       "resumee     3        25\n",
       "letter      2        25\n",
       "invoice     1        25\n",
       "email       0        25\n",
       "dtype: int64"
      ]
     },
     "metadata": {},
     "execution_count": 2
    }
   ],
   "metadata": {}
  },
  {
   "cell_type": "markdown",
   "source": [
    "## Split data into train and test\r\n",
    "\r\n",
    "### To keep things short, instead of doing a training, validation and test set split I will just do train and test. I will also **not** use any cross validation as I **would normally do**."
   ],
   "metadata": {}
  },
  {
   "cell_type": "code",
   "execution_count": 3,
   "source": [
    "from sklearn.model_selection import train_test_split\r\n",
    "\r\n",
    "train, test = train_test_split(df, random_state=42, stratify=df.dropna().label)\r\n",
    "train.label.value_counts()"
   ],
   "outputs": [
    {
     "output_type": "execute_result",
     "data": {
      "text/plain": [
       "3    19\n",
       "1    19\n",
       "0    19\n",
       "2    18\n",
       "Name: label, dtype: int64"
      ]
     },
     "metadata": {},
     "execution_count": 3
    }
   ],
   "metadata": {}
  },
  {
   "cell_type": "code",
   "execution_count": 4,
   "source": [
    "test.label.value_counts()"
   ],
   "outputs": [
    {
     "output_type": "execute_result",
     "data": {
      "text/plain": [
       "2    7\n",
       "3    6\n",
       "1    6\n",
       "0    6\n",
       "Name: label, dtype: int64"
      ]
     },
     "metadata": {},
     "execution_count": 4
    }
   ],
   "metadata": {}
  },
  {
   "cell_type": "markdown",
   "source": [
    "## FastText (using skift wrapper) only trained on this data\r\n",
    "### Results are quite bad"
   ],
   "metadata": {}
  },
  {
   "cell_type": "code",
   "execution_count": 5,
   "source": [
    "from skift import SeriesFtClassifier\r\n",
    "from sklearn.metrics import f1_score\r\n",
    "\r\n",
    "sk_clf = SeriesFtClassifier()\r\n",
    "sk_clf.fit(train.text.str, train.label)\r\n",
    "test[\"prediction_fasttext\"] = sk_clf.predict(test.text.str.replace(\"\\n\", \" \"))\r\n",
    "print(f\"F1 Score: {f1_score(test.label, test.prediction_fasttext, average='micro'):.2f}\")"
   ],
   "outputs": [
    {
     "output_type": "stream",
     "name": "stdout",
     "text": [
      "F1 Score: 0.28\n"
     ]
    }
   ],
   "metadata": {}
  },
  {
   "cell_type": "markdown",
   "source": [
    "## TF-IDF fitted on all data, transform test+train data to vectors and train SVM\r\n",
    "### Now these are some better results using the simplest tools. This can probably linked to earlier analysis that there are some very predicitve terms in certain classes such as 'invoice' occuring in 84% of invoices and in no other documents."
   ],
   "metadata": {}
  },
  {
   "cell_type": "code",
   "execution_count": 6,
   "source": [
    "from sklearn.feature_extraction.text import TfidfVectorizer\r\n",
    "from sklearn.svm import SVC\r\n",
    "from sklearn.metrics import roc_auc_score\r\n",
    "import numpy as np\r\n",
    "\r\n",
    "def tfidf_fit_transform(text_field: str) -> None:\r\n",
    "    tf_idf = TfidfVectorizer()\r\n",
    "    tf_idf.fit(df[text_field])\r\n",
    "    X_train = tf_idf.transform(train[text_field])\r\n",
    "    X_test = tf_idf.transform(test[text_field])\r\n",
    "    return X_train, X_test\r\n",
    "\r\n",
    "def get_svm_predictions(X_train, Y_train, X_test):\r\n",
    "    clf = SVC(probability=True, kernel='rbf', random_state=42)\r\n",
    "    clf.fit(X_train, Y_train)\r\n",
    "\r\n",
    "    # predict and evaluate predictions\r\n",
    "    predictions = clf.predict_proba(X_test)\r\n",
    "    return predictions\r\n",
    "\r\n",
    "\r\n",
    "def print_scores(Y_test, predictions):\r\n",
    "    print(f\"ROC-AUC: {roc_auc_score(Y_test, predictions, multi_class='ovr'):.2f}\")\r\n",
    "    print(f\"f1: {f1_score(Y_test, np.argmax(predictions, axis=1), average='micro'):.2f}\")\r\n",
    "\r\n",
    "\r\n",
    "\r\n",
    "X_train, X_test = tfidf_fit_transform(\"text\")\r\n",
    "predictions = get_svm_predictions(X_train, train.label, X_test)\r\n",
    "print_scores(test.label, predictions)\r\n"
   ],
   "outputs": [
    {
     "output_type": "stream",
     "name": "stdout",
     "text": [
      "ROC-AUC: 0.98\n",
      "f1: 0.88\n"
     ]
    }
   ],
   "metadata": {}
  },
  {
   "cell_type": "code",
   "execution_count": 11,
   "source": [
    "import seaborn as sns\r\n",
    "from sklearn.metrics import confusion_matrix\r\n",
    "\r\n",
    "text_field = \"text\"\r\n",
    "X_train, X_test = tfidf_fit_transform(text_field)\r\n",
    "predictions = get_svm_predictions(X_train, train.label, X_test)\r\n",
    "cm = confusion_matrix(test.label, np.argmax(predictions, axis=1))\r\n",
    "x_axis_labels, y_axis_labels = df.class_name.unique(), df.class_name.unique()\r\n",
    "f = sns.heatmap(cm, annot=True, xticklabels=x_axis_labels, yticklabels=y_axis_labels)"
   ],
   "outputs": [
    {
     "output_type": "display_data",
     "data": {
      "image/png": "[encoded data removed]",
      "text/plain": [
       "<Figure size 432x288 with 2 Axes>"
      ]
     },
     "metadata": {
      "needs_background": "light"
     }
    }
   ],
   "metadata": {}
  },
  {
   "cell_type": "code",
   "execution_count": 12,
   "source": [
    "cm = confusion_matrix(test.label, np.argmax(predictions, axis=1), normalize='true')\r\n",
    "x_axis_labels, y_axis_labels = df.class_name.unique(), df.class_name.unique()\r\n",
    "f = sns.heatmap(cm, annot=True, xticklabels=x_axis_labels, yticklabels=y_axis_labels)"
   ],
   "outputs": [
    {
     "output_type": "display_data",
     "data": {
      "image/png": "[encoded data removed]",
      "text/plain": [
       "<Figure size 432x288 with 2 Axes>"
      ]
     },
     "metadata": {
      "needs_background": "light"
     }
    }
   ],
   "metadata": {}
  },
  {
   "cell_type": "markdown",
   "source": [
    "## Doc2Vec\r\n",
    "Doc2Vec model from https://github.com/jhlau/doc2vec trained on Wikipedia"
   ],
   "metadata": {}
  },
  {
   "cell_type": "code",
   "execution_count": 9,
   "source": [
    "from gensim.models.doc2vec import Doc2Vec\r\n",
    "\r\n",
    "model_path = f\"enwiki_dbow/doc2vec.bin\"\r\n",
    "\r\n",
    "print(\"Load model\")\r\n",
    "model = Doc2Vec.load(model_path)"
   ],
   "outputs": [
    {
     "output_type": "stream",
     "name": "stdout",
     "text": [
      "Load model\n"
     ]
    }
   ],
   "metadata": {}
  },
  {
   "cell_type": "code",
   "execution_count": 10,
   "source": [
    "def get_doc2vec_vecs(text_field: str, df: pd.DataFrame) -> np.array:\r\n",
    "    X = df[text_field].str.split()\r\n",
    "    X = X.map(lambda x: model.infer_vector(x))\r\n",
    "    return X\r\n",
    "\r\n",
    "def get_train_test_vecs(text_field: str):\r\n",
    "    X_train = get_doc2vec_vecs(text_field, train)\r\n",
    "    X_test = get_doc2vec_vecs(text_field, test)\r\n",
    "    return list(X_train), list(X_test)\r\n",
    "\r\n",
    "\r\n",
    "X_train, X_test = get_train_test_vecs(\"text\")\r\n",
    "predictions = get_svm_predictions(X_train, train.label, X_test)\r\n",
    "print_scores(test.label, predictions)"
   ],
   "outputs": [
    {
     "output_type": "stream",
     "name": "stdout",
     "text": [
      "ROC-AUC: 0.94\n",
      "f1: 0.80\n"
     ]
    }
   ],
   "metadata": {}
  },
  {
   "cell_type": "markdown",
   "source": [
    "## Other possibilities for embeddings\r\n",
    "\r\n",
    "### I like the flair library from HU Berlin to get pooled word embeddings for documents or extract word embeddings from Transformer models such as the Longformer.\r\n",
    "\r\n",
    "### Additionally I could use the image data by running it through something like VGG16 and extracting the last layer before the softmax.\r\n",
    "\r\n",
    "### In my Master project ([github](https://github.com/pschonev/deepanomaly4docs)) I also had great success combining the image and word embeddings (see [Bakkali et al. - Visual and Textual Deep Feature Fusion for Document Image Classification](https://openaccess.thecvf.com/content_CVPRW_2020/papers/w34/Bakkali_Visual_and_Textual_Deep_Feature_Fusion_for_Document_Image_Classification_CVPRW_2020_paper.pdf)).\r\n",
    "\r\n",
    "### I could also use the layout information from OCR - see LayoutLM."
   ],
   "metadata": {}
  }
 ],
 "metadata": {
  "orig_nbformat": 4,
  "language_info": {
   "name": "python",
   "version": "3.6.8",
   "mimetype": "text/x-python",
   "codemirror_mode": {
    "name": "ipython",
    "version": 3
   },
   "pygments_lexer": "ipython3",
   "nbconvert_exporter": "python",
   "file_extension": ".py"
  },
  "kernelspec": {
   "name": "python3",
   "display_name": "Python 3.6.8 64-bit ('workist-env': venv)"
  },
  "interpreter": {
   "hash": "afbace14a715144fd8b4a706fecd0cb77009e941a10c781b0dca6281a086e679"
  }
 },
 "nbformat": 4,
 "nbformat_minor": 2
}